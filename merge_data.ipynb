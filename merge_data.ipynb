{
 "cells": [
  {
   "cell_type": "code",
   "execution_count": 1,
   "metadata": {},
   "outputs": [],
   "source": [
    "import pandas as pd\n",
    "import numpy as np\n",
    "import xml.etree.ElementTree as etree\n",
    "from datetime import datetime\n",
    "from datetime import timedelta\n",
    "from sklearn.linear_model import LinearRegression"
   ]
  },
  {
   "cell_type": "markdown",
   "metadata": {},
   "source": [
    "## Build risk free"
   ]
  },
  {
   "cell_type": "code",
   "execution_count": 2,
   "metadata": {},
   "outputs": [],
   "source": [
    "df_rf = pd.DataFrame()\n",
    "for i in range(2011, 2017):\n",
    "    tmp = pd.read_csv(f'{i}.csv')[['date', 'yearly_return']]\n",
    "    tmp['date'] = tmp['date'].apply(lambda x: x[:-9])\n",
    "    tmp['yearly_return'] = tmp['yearly_return'].apply(lambda x: (1 + x/100)**(1 / tmp.shape[0]) - 1)\n",
    "    df_rf = pd.concat([df_rf, tmp])"
   ]
  },
  {
   "cell_type": "code",
   "execution_count": 3,
   "metadata": {},
   "outputs": [
    {
     "data": {
      "text/plain": [
       "(1501, 2)"
      ]
     },
     "execution_count": 3,
     "metadata": {},
     "output_type": "execute_result"
    }
   ],
   "source": [
    "df_rf.shape"
   ]
  },
  {
   "cell_type": "markdown",
   "metadata": {},
   "source": [
    "## Build market return and risk free"
   ]
  },
  {
   "cell_type": "code",
   "execution_count": 4,
   "metadata": {},
   "outputs": [
    {
     "name": "stdout",
     "output_type": "stream",
     "text": [
      "(1510, 3)\n"
     ]
    },
    {
     "data": {
      "text/html": [
       "<div>\n",
       "<style scoped>\n",
       "    .dataframe tbody tr th:only-of-type {\n",
       "        vertical-align: middle;\n",
       "    }\n",
       "\n",
       "    .dataframe tbody tr th {\n",
       "        vertical-align: top;\n",
       "    }\n",
       "\n",
       "    .dataframe thead th {\n",
       "        text-align: right;\n",
       "    }\n",
       "</style>\n",
       "<table border=\"1\" class=\"dataframe\">\n",
       "  <thead>\n",
       "    <tr style=\"text-align: right;\">\n",
       "      <th></th>\n",
       "      <th>date</th>\n",
       "      <th>rm</th>\n",
       "      <th>rf</th>\n",
       "    </tr>\n",
       "  </thead>\n",
       "  <tbody>\n",
       "    <tr>\n",
       "      <th>0</th>\n",
       "      <td>2011-01-03</td>\n",
       "      <td>NaN</td>\n",
       "      <td>0.000012</td>\n",
       "    </tr>\n",
       "    <tr>\n",
       "      <th>1</th>\n",
       "      <td>2011-01-04</td>\n",
       "      <td>-0.001313</td>\n",
       "      <td>0.000011</td>\n",
       "    </tr>\n",
       "    <tr>\n",
       "      <th>2</th>\n",
       "      <td>2011-01-05</td>\n",
       "      <td>0.005007</td>\n",
       "      <td>0.000012</td>\n",
       "    </tr>\n",
       "    <tr>\n",
       "      <th>3</th>\n",
       "      <td>2011-01-06</td>\n",
       "      <td>-0.002123</td>\n",
       "      <td>0.000012</td>\n",
       "    </tr>\n",
       "    <tr>\n",
       "      <th>4</th>\n",
       "      <td>2011-01-07</td>\n",
       "      <td>-0.001845</td>\n",
       "      <td>0.000012</td>\n",
       "    </tr>\n",
       "  </tbody>\n",
       "</table>\n",
       "</div>"
      ],
      "text/plain": [
       "         date        rm        rf\n",
       "0  2011-01-03       NaN  0.000012\n",
       "1  2011-01-04 -0.001313  0.000011\n",
       "2  2011-01-05  0.005007  0.000012\n",
       "3  2011-01-06 -0.002123  0.000012\n",
       "4  2011-01-07 -0.001845  0.000012"
      ]
     },
     "execution_count": 4,
     "metadata": {},
     "output_type": "execute_result"
    }
   ],
   "source": [
    "sp500 = pd.read_csv('sp500.csv')\n",
    "sp500['date'] = sp500['Date']\n",
    "df_rm_rf = sp500.drop('Date', axis=1).merge(df_rf, on='date', how='left')\n",
    "df_rm_rf['rf'] = df_rm_rf['yearly_return']\n",
    "df_rm_rf['rm'] = sp500['Adj Close'].pct_change()\n",
    "df_rm_rf = df_rm_rf[['date', 'rm', 'rf']]\n",
    "print(df_rm_rf.shape)\n",
    "df_rm_rf.head()"
   ]
  },
  {
   "cell_type": "code",
   "execution_count": 5,
   "metadata": {},
   "outputs": [],
   "source": [
    "df_rm_rf_missing = df_rm_rf[df_rm_rf.isna().sum(axis=1) == 1]['date'][1:].values"
   ]
  },
  {
   "cell_type": "code",
   "execution_count": 6,
   "metadata": {},
   "outputs": [],
   "source": [
    "down_days, up_days = [], []\n",
    "for i in df_rm_rf_missing:\n",
    "    i_a_1 = datetime.strptime(i, '%Y-%m-%d') + timedelta(days=1)\n",
    "    i_a_1 = i_a_1.strftime('%Y-%m-%d')\n",
    "    i_m_1 = datetime.strptime(i, '%Y-%m-%d') - timedelta(days=1)\n",
    "    i_m_1 = i_m_1.strftime('%Y-%m-%d')\n",
    "    while sum(df_rf['date'] == i_a_1) == 0:\n",
    "        i_a_1 = datetime.strptime(i_a_1, '%Y-%m-%d') + timedelta(days=1)\n",
    "        i_a_1 = i_a_1.strftime('%Y-%m-%d')\n",
    "    down_days.append(i_a_1)\n",
    "    while sum(df_rf['date'] == i_m_1) == 0:\n",
    "        i_m_1 = datetime.strptime(i_m_1, '%Y-%m-%d') - timedelta(days=1)\n",
    "        i_m_1 = i_m_1.strftime('%Y-%m-%d')\n",
    "    up_days.append(i_m_1)"
   ]
  },
  {
   "cell_type": "code",
   "execution_count": 7,
   "metadata": {},
   "outputs": [],
   "source": [
    "for idx, day in enumerate(df_rm_rf_missing):\n",
    "    tmp_rf_down = df_rf[df_rf['date'] == down_days[idx]]['yearly_return'].values[0]\n",
    "    tmp_rf_up = df_rf[df_rf['date'] == up_days[idx]]['yearly_return'].values[0]\n",
    "    tmp_rf = 0.5 * (tmp_rf_down + tmp_rf_up)\n",
    "    df_rm_rf.iloc[df_rm_rf[df_rm_rf['date'] == day].index, 2] = tmp_rf"
   ]
  },
  {
   "cell_type": "code",
   "execution_count": 258,
   "metadata": {},
   "outputs": [],
   "source": [
    "df_rm_rf.to_csv('rm_rf.csv', index=False)"
   ]
  },
  {
   "cell_type": "markdown",
   "metadata": {},
   "source": [
    "## Build return as target"
   ]
  },
  {
   "cell_type": "markdown",
   "metadata": {},
   "source": [
    "### load final"
   ]
  },
  {
   "cell_type": "code",
   "execution_count": 47,
   "metadata": {},
   "outputs": [
    {
     "name": "stdout",
     "output_type": "stream",
     "text": [
      "Index(['Ticker Symbol', 'Period Ending', 'Accounts Payable',\n",
      "       'Accounts Receivable', 'Add'l income/expense items', 'After Tax ROE',\n",
      "       'Capital Expenditures', 'Capital Surplus', 'Cash Ratio',\n",
      "       'Cash and Cash Equivalents', 'Changes in Inventories', 'Common Stocks',\n",
      "       'Cost of Revenue', 'Current Ratio', 'Deferred Asset Charges',\n",
      "       'Deferred Liability Charges', 'Depreciation',\n",
      "       'Earnings Before Interest and Tax', 'Earnings Before Tax',\n",
      "       'Effect of Exchange Rate',\n",
      "       'Equity Earnings/Loss Unconsolidated Subsidiary', 'Fixed Assets',\n",
      "       'Goodwill', 'Gross Margin', 'Gross Profit', 'Income Tax',\n",
      "       'Intangible Assets', 'Interest Expense', 'Inventory', 'Investments',\n",
      "       'Liabilities', 'Long-Term Debt', 'Long-Term Investments',\n",
      "       'Minority Interest', 'Misc. Stocks', 'Net Borrowings', 'Net Cash Flow',\n",
      "       'Net Cash Flow-Operating', 'Net Cash Flows-Financing',\n",
      "       'Net Cash Flows-Investing', 'Net Income', 'Net Income Adjustments',\n",
      "       'Net Income Applicable to Common Shareholders',\n",
      "       'Net Income-Cont. Operations', 'Net Receivables', 'Non-Recurring Items',\n",
      "       'Operating Income', 'Operating Margin', 'Other Assets',\n",
      "       'Other Current Assets', 'Other Current Liabilities', 'Other Equity',\n",
      "       'Other Financing Activities', 'Other Investing Activities',\n",
      "       'Other Liabilities', 'Other Operating Activities',\n",
      "       'Other Operating Items', 'Pre-Tax Margin', 'Pre-Tax ROE',\n",
      "       'Profit Margin', 'Quick Ratio', 'Research and Development',\n",
      "       'Retained Earnings', 'Sale and Purchase of Stock',\n",
      "       'Sales, General and Admin.',\n",
      "       'Short-Term Debt / Current Portion of Long-Term Debt',\n",
      "       'Short-Term Investments', 'Total Assets', 'Total Current Assets',\n",
      "       'Total Current Liabilities', 'Total Equity', 'Total Liabilities',\n",
      "       'Total Liabilities & Equity', 'Total Revenue', 'Treasury Stock',\n",
      "       'For Year', 'Earnings Per Share', 'Estimated Shares Outstanding',\n",
      "       'date', 'symbol', 'open', 'close', 'low', 'high', 'volume', 'Last PE',\n",
      "       'Last PE2', 'Next PE', 'Next PE2'],\n",
      "      dtype='object')\n",
      "(1474, 89)\n"
     ]
    },
    {
     "data": {
      "text/html": [
       "<div>\n",
       "<style scoped>\n",
       "    .dataframe tbody tr th:only-of-type {\n",
       "        vertical-align: middle;\n",
       "    }\n",
       "\n",
       "    .dataframe tbody tr th {\n",
       "        vertical-align: top;\n",
       "    }\n",
       "\n",
       "    .dataframe thead th {\n",
       "        text-align: right;\n",
       "    }\n",
       "</style>\n",
       "<table border=\"1\" class=\"dataframe\">\n",
       "  <thead>\n",
       "    <tr style=\"text-align: right;\">\n",
       "      <th></th>\n",
       "      <th>Ticker Symbol</th>\n",
       "      <th>Period Ending</th>\n",
       "      <th>Accounts Payable</th>\n",
       "      <th>Accounts Receivable</th>\n",
       "      <th>Add'l income/expense items</th>\n",
       "      <th>After Tax ROE</th>\n",
       "      <th>Capital Expenditures</th>\n",
       "      <th>Capital Surplus</th>\n",
       "      <th>Cash Ratio</th>\n",
       "      <th>Cash and Cash Equivalents</th>\n",
       "      <th>...</th>\n",
       "      <th>symbol</th>\n",
       "      <th>open</th>\n",
       "      <th>close</th>\n",
       "      <th>low</th>\n",
       "      <th>high</th>\n",
       "      <th>volume</th>\n",
       "      <th>Last PE</th>\n",
       "      <th>Last PE2</th>\n",
       "      <th>Next PE</th>\n",
       "      <th>Next PE2</th>\n",
       "    </tr>\n",
       "  </thead>\n",
       "  <tbody>\n",
       "    <tr>\n",
       "      <th>0</th>\n",
       "      <td>AAL</td>\n",
       "      <td>2012-12-31</td>\n",
       "      <td>3.068000e+09</td>\n",
       "      <td>-222000000.0</td>\n",
       "      <td>-1.961000e+09</td>\n",
       "      <td>23.0</td>\n",
       "      <td>-1.888000e+09</td>\n",
       "      <td>4.695000e+09</td>\n",
       "      <td>53.0</td>\n",
       "      <td>1.330000e+09</td>\n",
       "      <td>...</td>\n",
       "      <td>AAL</td>\n",
       "      <td>12.850000</td>\n",
       "      <td>13.500000</td>\n",
       "      <td>12.840000</td>\n",
       "      <td>13.680000</td>\n",
       "      <td>7005600.0</td>\n",
       "      <td>2011-12-26</td>\n",
       "      <td>2011-12-19</td>\n",
       "      <td>2013-07-08</td>\n",
       "      <td>2013-07-15</td>\n",
       "    </tr>\n",
       "    <tr>\n",
       "      <th>1</th>\n",
       "      <td>AAL</td>\n",
       "      <td>2013-12-31</td>\n",
       "      <td>4.975000e+09</td>\n",
       "      <td>-93000000.0</td>\n",
       "      <td>-2.723000e+09</td>\n",
       "      <td>67.0</td>\n",
       "      <td>-3.114000e+09</td>\n",
       "      <td>1.059200e+10</td>\n",
       "      <td>75.0</td>\n",
       "      <td>2.175000e+09</td>\n",
       "      <td>...</td>\n",
       "      <td>AAL</td>\n",
       "      <td>24.740000</td>\n",
       "      <td>25.250000</td>\n",
       "      <td>24.629999</td>\n",
       "      <td>25.250000</td>\n",
       "      <td>7166600.0</td>\n",
       "      <td>2012-12-25</td>\n",
       "      <td>2012-12-18</td>\n",
       "      <td>2014-07-08</td>\n",
       "      <td>2014-07-15</td>\n",
       "    </tr>\n",
       "    <tr>\n",
       "      <th>2</th>\n",
       "      <td>AAL</td>\n",
       "      <td>2014-12-31</td>\n",
       "      <td>4.668000e+09</td>\n",
       "      <td>-160000000.0</td>\n",
       "      <td>-1.500000e+08</td>\n",
       "      <td>143.0</td>\n",
       "      <td>-5.311000e+09</td>\n",
       "      <td>1.513500e+10</td>\n",
       "      <td>60.0</td>\n",
       "      <td>1.768000e+09</td>\n",
       "      <td>...</td>\n",
       "      <td>AAL</td>\n",
       "      <td>53.900002</td>\n",
       "      <td>53.630001</td>\n",
       "      <td>53.320000</td>\n",
       "      <td>54.639999</td>\n",
       "      <td>10626000.0</td>\n",
       "      <td>2013-12-25</td>\n",
       "      <td>2013-12-18</td>\n",
       "      <td>2015-07-08</td>\n",
       "      <td>2015-07-15</td>\n",
       "    </tr>\n",
       "    <tr>\n",
       "      <th>3</th>\n",
       "      <td>AAL</td>\n",
       "      <td>2015-12-31</td>\n",
       "      <td>5.102000e+09</td>\n",
       "      <td>352000000.0</td>\n",
       "      <td>-7.080000e+08</td>\n",
       "      <td>135.0</td>\n",
       "      <td>-6.151000e+09</td>\n",
       "      <td>1.159100e+10</td>\n",
       "      <td>51.0</td>\n",
       "      <td>1.085000e+09</td>\n",
       "      <td>...</td>\n",
       "      <td>AAL</td>\n",
       "      <td>42.540001</td>\n",
       "      <td>42.349998</td>\n",
       "      <td>41.830002</td>\n",
       "      <td>42.570000</td>\n",
       "      <td>6788900.0</td>\n",
       "      <td>2014-12-25</td>\n",
       "      <td>2014-12-18</td>\n",
       "      <td>2016-07-07</td>\n",
       "      <td>2016-07-14</td>\n",
       "    </tr>\n",
       "    <tr>\n",
       "      <th>4</th>\n",
       "      <td>AAP</td>\n",
       "      <td>2012-12-28</td>\n",
       "      <td>2.409453e+09</td>\n",
       "      <td>-89482000.0</td>\n",
       "      <td>6.000000e+05</td>\n",
       "      <td>32.0</td>\n",
       "      <td>-2.711820e+08</td>\n",
       "      <td>5.202150e+08</td>\n",
       "      <td>23.0</td>\n",
       "      <td>5.981110e+08</td>\n",
       "      <td>...</td>\n",
       "      <td>AAP</td>\n",
       "      <td>70.919998</td>\n",
       "      <td>71.510002</td>\n",
       "      <td>70.790001</td>\n",
       "      <td>71.849998</td>\n",
       "      <td>422100.0</td>\n",
       "      <td>2011-12-23</td>\n",
       "      <td>2011-12-16</td>\n",
       "      <td>2013-07-05</td>\n",
       "      <td>2013-07-12</td>\n",
       "    </tr>\n",
       "  </tbody>\n",
       "</table>\n",
       "<p>5 rows × 89 columns</p>\n",
       "</div>"
      ],
      "text/plain": [
       "  Ticker Symbol Period Ending  Accounts Payable  Accounts Receivable  \\\n",
       "0           AAL    2012-12-31      3.068000e+09         -222000000.0   \n",
       "1           AAL    2013-12-31      4.975000e+09          -93000000.0   \n",
       "2           AAL    2014-12-31      4.668000e+09         -160000000.0   \n",
       "3           AAL    2015-12-31      5.102000e+09          352000000.0   \n",
       "4           AAP    2012-12-28      2.409453e+09          -89482000.0   \n",
       "\n",
       "   Add'l income/expense items  After Tax ROE  Capital Expenditures  \\\n",
       "0               -1.961000e+09           23.0         -1.888000e+09   \n",
       "1               -2.723000e+09           67.0         -3.114000e+09   \n",
       "2               -1.500000e+08          143.0         -5.311000e+09   \n",
       "3               -7.080000e+08          135.0         -6.151000e+09   \n",
       "4                6.000000e+05           32.0         -2.711820e+08   \n",
       "\n",
       "   Capital Surplus  Cash Ratio  Cash and Cash Equivalents  ...  symbol  \\\n",
       "0     4.695000e+09        53.0               1.330000e+09  ...     AAL   \n",
       "1     1.059200e+10        75.0               2.175000e+09  ...     AAL   \n",
       "2     1.513500e+10        60.0               1.768000e+09  ...     AAL   \n",
       "3     1.159100e+10        51.0               1.085000e+09  ...     AAL   \n",
       "4     5.202150e+08        23.0               5.981110e+08  ...     AAP   \n",
       "\n",
       "        open      close        low       high      volume     Last PE  \\\n",
       "0  12.850000  13.500000  12.840000  13.680000   7005600.0  2011-12-26   \n",
       "1  24.740000  25.250000  24.629999  25.250000   7166600.0  2012-12-25   \n",
       "2  53.900002  53.630001  53.320000  54.639999  10626000.0  2013-12-25   \n",
       "3  42.540001  42.349998  41.830002  42.570000   6788900.0  2014-12-25   \n",
       "4  70.919998  71.510002  70.790001  71.849998    422100.0  2011-12-23   \n",
       "\n",
       "     Last PE2     Next PE    Next PE2  \n",
       "0  2011-12-19  2013-07-08  2013-07-15  \n",
       "1  2012-12-18  2014-07-08  2014-07-15  \n",
       "2  2013-12-18  2015-07-08  2015-07-15  \n",
       "3  2014-12-18  2016-07-07  2016-07-14  \n",
       "4  2011-12-16  2013-07-05  2013-07-12  \n",
       "\n",
       "[5 rows x 89 columns]"
      ]
     },
     "execution_count": 47,
     "metadata": {},
     "output_type": "execute_result"
    }
   ],
   "source": [
    "df = pd.read_csv('viable_final2.csv').drop('Unnamed: 0', axis=1)\n",
    "print(df.columns)\n",
    "print(df.shape)\n",
    "df.head()"
   ]
  },
  {
   "cell_type": "markdown",
   "metadata": {},
   "source": [
    "### load adjusted price"
   ]
  },
  {
   "cell_type": "code",
   "execution_count": 68,
   "metadata": {},
   "outputs": [
    {
     "name": "stdout",
     "output_type": "stream",
     "text": [
      "Index(['date', 'symbol', 'open', 'close', 'low', 'high', 'volume'], dtype='object')\n",
      "(851264, 7)\n"
     ]
    },
    {
     "data": {
      "text/html": [
       "<div>\n",
       "<style scoped>\n",
       "    .dataframe tbody tr th:only-of-type {\n",
       "        vertical-align: middle;\n",
       "    }\n",
       "\n",
       "    .dataframe tbody tr th {\n",
       "        vertical-align: top;\n",
       "    }\n",
       "\n",
       "    .dataframe thead th {\n",
       "        text-align: right;\n",
       "    }\n",
       "</style>\n",
       "<table border=\"1\" class=\"dataframe\">\n",
       "  <thead>\n",
       "    <tr style=\"text-align: right;\">\n",
       "      <th></th>\n",
       "      <th>date</th>\n",
       "      <th>symbol</th>\n",
       "      <th>open</th>\n",
       "      <th>close</th>\n",
       "      <th>low</th>\n",
       "      <th>high</th>\n",
       "      <th>volume</th>\n",
       "    </tr>\n",
       "  </thead>\n",
       "  <tbody>\n",
       "    <tr>\n",
       "      <th>0</th>\n",
       "      <td>2010-01-04</td>\n",
       "      <td>A</td>\n",
       "      <td>22.453504</td>\n",
       "      <td>22.389128</td>\n",
       "      <td>22.267525</td>\n",
       "      <td>22.625180</td>\n",
       "      <td>3815500</td>\n",
       "    </tr>\n",
       "    <tr>\n",
       "      <th>1</th>\n",
       "      <td>2010-01-05</td>\n",
       "      <td>A</td>\n",
       "      <td>22.324749</td>\n",
       "      <td>22.145923</td>\n",
       "      <td>22.002861</td>\n",
       "      <td>22.331903</td>\n",
       "      <td>4186000</td>\n",
       "    </tr>\n",
       "    <tr>\n",
       "      <th>2</th>\n",
       "      <td>2010-01-06</td>\n",
       "      <td>A</td>\n",
       "      <td>22.067240</td>\n",
       "      <td>22.067240</td>\n",
       "      <td>22.002861</td>\n",
       "      <td>22.174536</td>\n",
       "      <td>3243700</td>\n",
       "    </tr>\n",
       "    <tr>\n",
       "      <th>3</th>\n",
       "      <td>2010-01-07</td>\n",
       "      <td>A</td>\n",
       "      <td>22.017168</td>\n",
       "      <td>22.038626</td>\n",
       "      <td>21.816881</td>\n",
       "      <td>22.045780</td>\n",
       "      <td>3095100</td>\n",
       "    </tr>\n",
       "    <tr>\n",
       "      <th>4</th>\n",
       "      <td>2010-01-08</td>\n",
       "      <td>A</td>\n",
       "      <td>21.917024</td>\n",
       "      <td>22.031474</td>\n",
       "      <td>21.745350</td>\n",
       "      <td>22.067240</td>\n",
       "      <td>3733900</td>\n",
       "    </tr>\n",
       "  </tbody>\n",
       "</table>\n",
       "</div>"
      ],
      "text/plain": [
       "         date symbol       open      close        low       high   volume\n",
       "0  2010-01-04      A  22.453504  22.389128  22.267525  22.625180  3815500\n",
       "1  2010-01-05      A  22.324749  22.145923  22.002861  22.331903  4186000\n",
       "2  2010-01-06      A  22.067240  22.067240  22.002861  22.174536  3243700\n",
       "3  2010-01-07      A  22.017168  22.038626  21.816881  22.045780  3095100\n",
       "4  2010-01-08      A  21.917024  22.031474  21.745350  22.067240  3733900"
      ]
     },
     "execution_count": 68,
     "metadata": {},
     "output_type": "execute_result"
    }
   ],
   "source": [
    "df_price = pd.read_csv('prices-split-adjusted.csv')\n",
    "df_price['date'] = df_price['date'].apply(lambda x: datetime.strptime(x, '%m/%d/%Y').strftime('%Y-%m-%d'))\n",
    "print(df_price.columns)\n",
    "print(df_price.shape)\n",
    "df_price.head()"
   ]
  },
  {
   "cell_type": "code",
   "execution_count": 10,
   "metadata": {},
   "outputs": [],
   "source": [
    "companies = df['Ticker Symbol'].unique()\n",
    "df_lite = df[['Ticker Symbol', 'Period Ending']]"
   ]
  },
  {
   "cell_type": "markdown",
   "metadata": {},
   "source": [
    "### three month return"
   ]
  },
  {
   "cell_type": "code",
   "execution_count": 48,
   "metadata": {},
   "outputs": [],
   "source": [
    "# dict to save data\n",
    "three_m_rtn = {'Ticker Symbol':[], 'date': [], 'three_m_rtn': []}\n",
    "for company in companies:\n",
    "    endings = df_lite[df_lite['Ticker Symbol'] == company]['Period Ending'].values\n",
    "    for ending in endings:\n",
    "        b_idx = df_price[(df_price['date'] == ending) & (df_price['symbol'] == company)].index\n",
    "        e_idx = b_idx + 63\n",
    "        if_in = df_price.iloc[e_idx, ]['symbol'] == company\n",
    "        if if_in.bool():\n",
    "            e_price = df_price.iloc[e_idx, 3].values\n",
    "            b_price = df_price.iloc[b_idx, 3].values\n",
    "            tmp_rtn = (e_price - b_price) / b_price\n",
    "            three_m_rtn['Ticker Symbol'].append(company)\n",
    "            three_m_rtn['date'].append(ending)\n",
    "            three_m_rtn['three_m_rtn'].append(tmp_rtn[0])\n",
    "        else:\n",
    "            # log errors\n",
    "            print(company, ending)"
   ]
  },
  {
   "cell_type": "code",
   "execution_count": 52,
   "metadata": {},
   "outputs": [],
   "source": [
    "df_three_m_rtn = pd.DataFrame(three_m_rtn)"
   ]
  },
  {
   "cell_type": "code",
   "execution_count": 102,
   "metadata": {},
   "outputs": [
    {
     "name": "stdout",
     "output_type": "stream",
     "text": [
      "(1474, 3)\n"
     ]
    },
    {
     "data": {
      "text/html": [
       "<div>\n",
       "<style scoped>\n",
       "    .dataframe tbody tr th:only-of-type {\n",
       "        vertical-align: middle;\n",
       "    }\n",
       "\n",
       "    .dataframe tbody tr th {\n",
       "        vertical-align: top;\n",
       "    }\n",
       "\n",
       "    .dataframe thead th {\n",
       "        text-align: right;\n",
       "    }\n",
       "</style>\n",
       "<table border=\"1\" class=\"dataframe\">\n",
       "  <thead>\n",
       "    <tr style=\"text-align: right;\">\n",
       "      <th></th>\n",
       "      <th>Ticker Symbol</th>\n",
       "      <th>date</th>\n",
       "      <th>three_m_rtn</th>\n",
       "    </tr>\n",
       "  </thead>\n",
       "  <tbody>\n",
       "    <tr>\n",
       "      <th>0</th>\n",
       "      <td>AAL</td>\n",
       "      <td>2012-12-31</td>\n",
       "      <td>0.150370</td>\n",
       "    </tr>\n",
       "    <tr>\n",
       "      <th>1</th>\n",
       "      <td>AAL</td>\n",
       "      <td>2013-12-31</td>\n",
       "      <td>0.493465</td>\n",
       "    </tr>\n",
       "    <tr>\n",
       "      <th>2</th>\n",
       "      <td>AAL</td>\n",
       "      <td>2014-12-31</td>\n",
       "      <td>-0.082976</td>\n",
       "    </tr>\n",
       "    <tr>\n",
       "      <th>3</th>\n",
       "      <td>AAL</td>\n",
       "      <td>2015-12-31</td>\n",
       "      <td>-0.070366</td>\n",
       "    </tr>\n",
       "    <tr>\n",
       "      <th>4</th>\n",
       "      <td>AAP</td>\n",
       "      <td>2012-12-28</td>\n",
       "      <td>0.158300</td>\n",
       "    </tr>\n",
       "  </tbody>\n",
       "</table>\n",
       "</div>"
      ],
      "text/plain": [
       "  Ticker Symbol        date  three_m_rtn\n",
       "0           AAL  2012-12-31     0.150370\n",
       "1           AAL  2013-12-31     0.493465\n",
       "2           AAL  2014-12-31    -0.082976\n",
       "3           AAL  2015-12-31    -0.070366\n",
       "4           AAP  2012-12-28     0.158300"
      ]
     },
     "execution_count": 102,
     "metadata": {},
     "output_type": "execute_result"
    }
   ],
   "source": [
    "print(df_three_m_rtn.shape)\n",
    "df_three_m_rtn.head()"
   ]
  },
  {
   "cell_type": "markdown",
   "metadata": {},
   "source": [
    "## Calculate VaR"
   ]
  },
  {
   "cell_type": "code",
   "execution_count": 123,
   "metadata": {},
   "outputs": [],
   "source": [
    "VaR = {'Ticker Symbol':[], 'date': [], 'VaR': []}\n",
    "for company in companies:\n",
    "    # get endings for each company\n",
    "    endings = df_lite[df_lite['Ticker Symbol'] == company]['Period Ending'].values\n",
    "    for ending in endings:\n",
    "        # idx on ending date\n",
    "        b_idx = df_price_rm_rf[(df_price_rm_rf['Ticker Symbol'] == company) & \n",
    "                               (df_price_rm_rf['date'] == ending)].index[0]\n",
    "        # idx for half a year ago\n",
    "        e_idx = b_idx + 126\n",
    "        # if company matches\n",
    "        if_in = df_price_rm_rf.iloc[e_idx, ]['Ticker Symbol'] == company\n",
    "        if if_in:\n",
    "            # get y using idx\n",
    "            rtns = df_price_rm_rf.iloc[b_idx:e_idx, ].apply(lambda row: row['rtn'] - row['rf'], axis=1)\n",
    "            # calculate VaR\n",
    "            tmp_VaR = np.percentile(rtns, 5)\n",
    "            # save company, ending date and beta\n",
    "            VaR['Ticker Symbol'].append(company)\n",
    "            VaR['date'].append(ending)\n",
    "            VaR['VaR'].append(tmp_VaR)\n",
    "        else:\n",
    "            # log errors\n",
    "            print(company, ending)"
   ]
  },
  {
   "cell_type": "code",
   "execution_count": 124,
   "metadata": {},
   "outputs": [
    {
     "name": "stdout",
     "output_type": "stream",
     "text": [
      "(1474, 3)\n"
     ]
    },
    {
     "data": {
      "text/html": [
       "<div>\n",
       "<style scoped>\n",
       "    .dataframe tbody tr th:only-of-type {\n",
       "        vertical-align: middle;\n",
       "    }\n",
       "\n",
       "    .dataframe tbody tr th {\n",
       "        vertical-align: top;\n",
       "    }\n",
       "\n",
       "    .dataframe thead th {\n",
       "        text-align: right;\n",
       "    }\n",
       "</style>\n",
       "<table border=\"1\" class=\"dataframe\">\n",
       "  <thead>\n",
       "    <tr style=\"text-align: right;\">\n",
       "      <th></th>\n",
       "      <th>Ticker Symbol</th>\n",
       "      <th>date</th>\n",
       "      <th>VaR</th>\n",
       "    </tr>\n",
       "  </thead>\n",
       "  <tbody>\n",
       "    <tr>\n",
       "      <th>0</th>\n",
       "      <td>AAL</td>\n",
       "      <td>2012-12-31</td>\n",
       "      <td>-0.034344</td>\n",
       "    </tr>\n",
       "    <tr>\n",
       "      <th>1</th>\n",
       "      <td>AAL</td>\n",
       "      <td>2013-12-31</td>\n",
       "      <td>-0.029382</td>\n",
       "    </tr>\n",
       "    <tr>\n",
       "      <th>2</th>\n",
       "      <td>AAL</td>\n",
       "      <td>2014-12-31</td>\n",
       "      <td>-0.043457</td>\n",
       "    </tr>\n",
       "    <tr>\n",
       "      <th>3</th>\n",
       "      <td>AAL</td>\n",
       "      <td>2015-12-31</td>\n",
       "      <td>-0.044833</td>\n",
       "    </tr>\n",
       "    <tr>\n",
       "      <th>4</th>\n",
       "      <td>AAP</td>\n",
       "      <td>2012-12-28</td>\n",
       "      <td>-0.017931</td>\n",
       "    </tr>\n",
       "  </tbody>\n",
       "</table>\n",
       "</div>"
      ],
      "text/plain": [
       "  Ticker Symbol        date       VaR\n",
       "0           AAL  2012-12-31 -0.034344\n",
       "1           AAL  2013-12-31 -0.029382\n",
       "2           AAL  2014-12-31 -0.043457\n",
       "3           AAL  2015-12-31 -0.044833\n",
       "4           AAP  2012-12-28 -0.017931"
      ]
     },
     "execution_count": 124,
     "metadata": {},
     "output_type": "execute_result"
    }
   ],
   "source": [
    "df_VaR = pd.DataFrame(VaR)\n",
    "print(df_VaR.shape)\n",
    "df_VaR.head()"
   ]
  },
  {
   "cell_type": "markdown",
   "metadata": {},
   "source": [
    "## Calculate $\\beta$"
   ]
  },
  {
   "cell_type": "markdown",
   "metadata": {},
   "source": [
    "### calculate daily return"
   ]
  },
  {
   "cell_type": "code",
   "execution_count": 69,
   "metadata": {},
   "outputs": [],
   "source": [
    "# calculate daily return\n",
    "df_price['rtn'] = df_price.groupby(['symbol'])['close'].pct_change()\n",
    "df_price = df_price.dropna()"
   ]
  },
  {
   "cell_type": "markdown",
   "metadata": {},
   "source": [
    "### calculate CAPM"
   ]
  },
  {
   "cell_type": "code",
   "execution_count": 75,
   "metadata": {},
   "outputs": [],
   "source": [
    "# merge stock return with rt and rf\n",
    "df_price_rm_rf = df_rm_rf.drop(0).merge(df_price, on='date', how='left')"
   ]
  },
  {
   "cell_type": "code",
   "execution_count": 76,
   "metadata": {},
   "outputs": [],
   "source": [
    "# change column name\n",
    "df_price_rm_rf['Ticker Symbol'] = df_price_rm_rf['symbol']\n",
    "df_price_rm_rf.drop('symbol', axis=1, inplace=True)"
   ]
  },
  {
   "cell_type": "code",
   "execution_count": 77,
   "metadata": {},
   "outputs": [],
   "source": [
    "# sort by symbo and date so I can use index later\n",
    "df_price_rm_rf = df_price_rm_rf.sort_values(['Ticker Symbol', 'date']).reset_index(drop=True)"
   ]
  },
  {
   "cell_type": "code",
   "execution_count": 78,
   "metadata": {},
   "outputs": [],
   "source": [
    "def get_exp_weights(halftime, trail=126):\n",
    "    lamb = 2**(-1/halftime)\n",
    "    wei = [lamb**i for i in range(1,trail+1)]\n",
    "    return wei"
   ]
  },
  {
   "cell_type": "code",
   "execution_count": 79,
   "metadata": {},
   "outputs": [],
   "source": [
    "# save beta in dict for merging with main dataset\n",
    "alpha_beta_res = {'Ticker Symbol':[], 'date': [], \n",
    "                  'beta': [], 'exp_weighted_alpha': [], 'std_res': []}\n",
    "weights = get_exp_weights(42)\n",
    "for company in companies:\n",
    "    # get endings for each company\n",
    "    endings = df_lite[df_lite['Ticker Symbol'] == company]['Period Ending'].values\n",
    "    for ending in endings:\n",
    "        # idx on ending date\n",
    "        e_idx = df_price_rm_rf[(df_price_rm_rf['Ticker Symbol'] == company) & \n",
    "                               (df_price_rm_rf['date'] == ending)].index[0]\n",
    "        # idx for half a year ago\n",
    "        b_idx = e_idx - 126\n",
    "        # if company matches\n",
    "        if_in = df_price_rm_rf.iloc[b_idx, ]['Ticker Symbol'] == company\n",
    "        if if_in:\n",
    "            # get X using idx\n",
    "            X = df_price_rm_rf.iloc[b_idx:e_idx, ].apply(lambda row: row['rm'] - row['rf'], axis=1)\n",
    "            # get y using idx\n",
    "            y = df_price_rm_rf.iloc[b_idx:e_idx, ].apply(lambda row: row['rtn'] - row['rf'], axis=1)\n",
    "            # CAPM\n",
    "            m = np.shape(X)[0]\n",
    "            X_full_T = np.matrix([np.ones(m), X]).T\n",
    "            y_T = np.matrix(y).T\n",
    "            p_mat = np.linalg.inv(X_full_T.T.dot(X_full_T)).dot(X_full_T.T).dot(y_T)\n",
    "            # calculate exp weighted alpha\n",
    "            aplha = y - p_mat[1, 0] * X\n",
    "            aplha_exp_weight_sum = sum(aplha * weights)\n",
    "            # calculate sd of res\n",
    "            res = aplha - p_mat[0, 0]\n",
    "            res_std = np.std(res)\n",
    "            # save company, ending date and beta\n",
    "            alpha_beta_res['Ticker Symbol'].append(company)\n",
    "            alpha_beta_res['date'].append(ending)\n",
    "            alpha_beta_res['beta'].append(p_mat[1, 0])\n",
    "            alpha_beta_res['exp_weighted_alpha'].append(aplha_exp_weight_sum)\n",
    "            alpha_beta_res['std_res'].append(res_std)\n",
    "        else:\n",
    "            # log errors\n",
    "            print(company, ending)"
   ]
  },
  {
   "cell_type": "code",
   "execution_count": 80,
   "metadata": {},
   "outputs": [],
   "source": [
    "df_alpha_beta_res = pd.DataFrame(alpha_beta_res)"
   ]
  },
  {
   "cell_type": "code",
   "execution_count": 107,
   "metadata": {},
   "outputs": [
    {
     "name": "stdout",
     "output_type": "stream",
     "text": [
      "(1474, 5)\n"
     ]
    },
    {
     "data": {
      "text/html": [
       "<div>\n",
       "<style scoped>\n",
       "    .dataframe tbody tr th:only-of-type {\n",
       "        vertical-align: middle;\n",
       "    }\n",
       "\n",
       "    .dataframe tbody tr th {\n",
       "        vertical-align: top;\n",
       "    }\n",
       "\n",
       "    .dataframe thead th {\n",
       "        text-align: right;\n",
       "    }\n",
       "</style>\n",
       "<table border=\"1\" class=\"dataframe\">\n",
       "  <thead>\n",
       "    <tr style=\"text-align: right;\">\n",
       "      <th></th>\n",
       "      <th>Ticker Symbol</th>\n",
       "      <th>date</th>\n",
       "      <th>beta</th>\n",
       "      <th>exp_weighted_alpha</th>\n",
       "      <th>std_res</th>\n",
       "    </tr>\n",
       "  </thead>\n",
       "  <tbody>\n",
       "    <tr>\n",
       "      <th>0</th>\n",
       "      <td>AAL</td>\n",
       "      <td>2012-12-31</td>\n",
       "      <td>0.357608</td>\n",
       "      <td>-0.099730</td>\n",
       "      <td>0.028314</td>\n",
       "    </tr>\n",
       "    <tr>\n",
       "      <th>1</th>\n",
       "      <td>AAL</td>\n",
       "      <td>2013-12-31</td>\n",
       "      <td>1.124389</td>\n",
       "      <td>0.093856</td>\n",
       "      <td>0.022369</td>\n",
       "    </tr>\n",
       "    <tr>\n",
       "      <th>2</th>\n",
       "      <td>AAL</td>\n",
       "      <td>2014-12-31</td>\n",
       "      <td>1.661482</td>\n",
       "      <td>-0.055035</td>\n",
       "      <td>0.023906</td>\n",
       "    </tr>\n",
       "    <tr>\n",
       "      <th>3</th>\n",
       "      <td>AAL</td>\n",
       "      <td>2015-12-31</td>\n",
       "      <td>1.033788</td>\n",
       "      <td>0.097942</td>\n",
       "      <td>0.018811</td>\n",
       "    </tr>\n",
       "    <tr>\n",
       "      <th>4</th>\n",
       "      <td>AAP</td>\n",
       "      <td>2012-12-28</td>\n",
       "      <td>0.601798</td>\n",
       "      <td>0.042358</td>\n",
       "      <td>0.018394</td>\n",
       "    </tr>\n",
       "  </tbody>\n",
       "</table>\n",
       "</div>"
      ],
      "text/plain": [
       "  Ticker Symbol        date      beta  exp_weighted_alpha   std_res\n",
       "0           AAL  2012-12-31  0.357608           -0.099730  0.028314\n",
       "1           AAL  2013-12-31  1.124389            0.093856  0.022369\n",
       "2           AAL  2014-12-31  1.661482           -0.055035  0.023906\n",
       "3           AAL  2015-12-31  1.033788            0.097942  0.018811\n",
       "4           AAP  2012-12-28  0.601798            0.042358  0.018394"
      ]
     },
     "execution_count": 107,
     "metadata": {},
     "output_type": "execute_result"
    }
   ],
   "source": [
    "print(df_alpha_beta_res.shape)\n",
    "df_alpha_beta_res.head()"
   ]
  },
  {
   "cell_type": "markdown",
   "metadata": {},
   "source": [
    "## Merge data"
   ]
  },
  {
   "cell_type": "code",
   "execution_count": 114,
   "metadata": {},
   "outputs": [],
   "source": [
    "df = pd.read_csv('viable_final2_target_acquired.csv')"
   ]
  },
  {
   "cell_type": "code",
   "execution_count": 115,
   "metadata": {},
   "outputs": [],
   "source": [
    "df_merged = df.merge(df_alpha_beta_res, how='left', on=['date', 'Ticker Symbol'])"
   ]
  },
  {
   "cell_type": "code",
   "execution_count": 116,
   "metadata": {},
   "outputs": [],
   "source": [
    "df_merged = df_merged.merge(df_three_m_rtn, how='left', on=['date', 'Ticker Symbol'])"
   ]
  },
  {
   "cell_type": "code",
   "execution_count": 117,
   "metadata": {},
   "outputs": [],
   "source": [
    "df_merged = df_merged.merge(df_VaR, how='left', on=['date', 'Ticker Symbol'])"
   ]
  },
  {
   "cell_type": "code",
   "execution_count": 120,
   "metadata": {},
   "outputs": [
    {
     "data": {
      "text/html": [
       "<div>\n",
       "<style scoped>\n",
       "    .dataframe tbody tr th:only-of-type {\n",
       "        vertical-align: middle;\n",
       "    }\n",
       "\n",
       "    .dataframe tbody tr th {\n",
       "        vertical-align: top;\n",
       "    }\n",
       "\n",
       "    .dataframe thead th {\n",
       "        text-align: right;\n",
       "    }\n",
       "</style>\n",
       "<table border=\"1\" class=\"dataframe\">\n",
       "  <thead>\n",
       "    <tr style=\"text-align: right;\">\n",
       "      <th></th>\n",
       "      <th>Ticker Symbol</th>\n",
       "      <th>Period Ending</th>\n",
       "      <th>Accounts Payable</th>\n",
       "      <th>Accounts Receivable</th>\n",
       "      <th>Add'l income/expense items</th>\n",
       "      <th>After Tax ROE</th>\n",
       "      <th>Capital Expenditures</th>\n",
       "      <th>Capital Surplus</th>\n",
       "      <th>Cash Ratio</th>\n",
       "      <th>Cash and Cash Equivalents</th>\n",
       "      <th>...</th>\n",
       "      <th>Last PE</th>\n",
       "      <th>Last PE2</th>\n",
       "      <th>Next PE</th>\n",
       "      <th>Next PE2</th>\n",
       "      <th>half_year_return</th>\n",
       "      <th>beta</th>\n",
       "      <th>exp_weighted_alpha</th>\n",
       "      <th>std_res</th>\n",
       "      <th>three_m_rtn</th>\n",
       "      <th>VaR</th>\n",
       "    </tr>\n",
       "  </thead>\n",
       "  <tbody>\n",
       "    <tr>\n",
       "      <th>0</th>\n",
       "      <td>AAL</td>\n",
       "      <td>2012-12-31</td>\n",
       "      <td>3.068000e+09</td>\n",
       "      <td>-222000000.0</td>\n",
       "      <td>-1.961000e+09</td>\n",
       "      <td>23.0</td>\n",
       "      <td>-1.888000e+09</td>\n",
       "      <td>4.695000e+09</td>\n",
       "      <td>53.0</td>\n",
       "      <td>1.330000e+09</td>\n",
       "      <td>...</td>\n",
       "      <td>2011-12-26</td>\n",
       "      <td>2011-12-19</td>\n",
       "      <td>2013-07-08</td>\n",
       "      <td>2013-07-15</td>\n",
       "      <td>0.217037</td>\n",
       "      <td>0.357608</td>\n",
       "      <td>-0.099730</td>\n",
       "      <td>0.028314</td>\n",
       "      <td>0.150370</td>\n",
       "      <td>-0.046172</td>\n",
       "    </tr>\n",
       "    <tr>\n",
       "      <th>1</th>\n",
       "      <td>AAL</td>\n",
       "      <td>2013-12-31</td>\n",
       "      <td>4.975000e+09</td>\n",
       "      <td>-93000000.0</td>\n",
       "      <td>-2.723000e+09</td>\n",
       "      <td>67.0</td>\n",
       "      <td>-3.114000e+09</td>\n",
       "      <td>1.059200e+10</td>\n",
       "      <td>75.0</td>\n",
       "      <td>2.175000e+09</td>\n",
       "      <td>...</td>\n",
       "      <td>2012-12-25</td>\n",
       "      <td>2012-12-18</td>\n",
       "      <td>2014-07-08</td>\n",
       "      <td>2014-07-15</td>\n",
       "      <td>0.661386</td>\n",
       "      <td>1.124389</td>\n",
       "      <td>0.093856</td>\n",
       "      <td>0.022369</td>\n",
       "      <td>0.493465</td>\n",
       "      <td>-0.024731</td>\n",
       "    </tr>\n",
       "    <tr>\n",
       "      <th>2</th>\n",
       "      <td>AAL</td>\n",
       "      <td>2014-12-31</td>\n",
       "      <td>4.668000e+09</td>\n",
       "      <td>-160000000.0</td>\n",
       "      <td>-1.500000e+08</td>\n",
       "      <td>143.0</td>\n",
       "      <td>-5.311000e+09</td>\n",
       "      <td>1.513500e+10</td>\n",
       "      <td>60.0</td>\n",
       "      <td>1.768000e+09</td>\n",
       "      <td>...</td>\n",
       "      <td>2013-12-25</td>\n",
       "      <td>2013-12-18</td>\n",
       "      <td>2015-07-08</td>\n",
       "      <td>2015-07-15</td>\n",
       "      <td>-0.272236</td>\n",
       "      <td>1.661482</td>\n",
       "      <td>-0.055035</td>\n",
       "      <td>0.023906</td>\n",
       "      <td>-0.082976</td>\n",
       "      <td>-0.037124</td>\n",
       "    </tr>\n",
       "    <tr>\n",
       "      <th>3</th>\n",
       "      <td>AAL</td>\n",
       "      <td>2015-12-31</td>\n",
       "      <td>5.102000e+09</td>\n",
       "      <td>352000000.0</td>\n",
       "      <td>-7.080000e+08</td>\n",
       "      <td>135.0</td>\n",
       "      <td>-6.151000e+09</td>\n",
       "      <td>1.159100e+10</td>\n",
       "      <td>51.0</td>\n",
       "      <td>1.085000e+09</td>\n",
       "      <td>...</td>\n",
       "      <td>2014-12-25</td>\n",
       "      <td>2014-12-18</td>\n",
       "      <td>2016-07-07</td>\n",
       "      <td>2016-07-14</td>\n",
       "      <td>-0.307438</td>\n",
       "      <td>1.033788</td>\n",
       "      <td>0.097942</td>\n",
       "      <td>0.018811</td>\n",
       "      <td>-0.070366</td>\n",
       "      <td>-0.035080</td>\n",
       "    </tr>\n",
       "    <tr>\n",
       "      <th>4</th>\n",
       "      <td>AAP</td>\n",
       "      <td>2012-12-28</td>\n",
       "      <td>2.409453e+09</td>\n",
       "      <td>-89482000.0</td>\n",
       "      <td>6.000000e+05</td>\n",
       "      <td>32.0</td>\n",
       "      <td>-2.711820e+08</td>\n",
       "      <td>5.202150e+08</td>\n",
       "      <td>23.0</td>\n",
       "      <td>5.981110e+08</td>\n",
       "      <td>...</td>\n",
       "      <td>2011-12-23</td>\n",
       "      <td>2011-12-16</td>\n",
       "      <td>2013-07-05</td>\n",
       "      <td>2013-07-12</td>\n",
       "      <td>0.145154</td>\n",
       "      <td>0.601798</td>\n",
       "      <td>0.042358</td>\n",
       "      <td>0.018394</td>\n",
       "      <td>0.158300</td>\n",
       "      <td>-0.019798</td>\n",
       "    </tr>\n",
       "  </tbody>\n",
       "</table>\n",
       "<p>5 rows × 95 columns</p>\n",
       "</div>"
      ],
      "text/plain": [
       "  Ticker Symbol Period Ending  Accounts Payable  Accounts Receivable  \\\n",
       "0           AAL    2012-12-31      3.068000e+09         -222000000.0   \n",
       "1           AAL    2013-12-31      4.975000e+09          -93000000.0   \n",
       "2           AAL    2014-12-31      4.668000e+09         -160000000.0   \n",
       "3           AAL    2015-12-31      5.102000e+09          352000000.0   \n",
       "4           AAP    2012-12-28      2.409453e+09          -89482000.0   \n",
       "\n",
       "   Add'l income/expense items  After Tax ROE  Capital Expenditures  \\\n",
       "0               -1.961000e+09           23.0         -1.888000e+09   \n",
       "1               -2.723000e+09           67.0         -3.114000e+09   \n",
       "2               -1.500000e+08          143.0         -5.311000e+09   \n",
       "3               -7.080000e+08          135.0         -6.151000e+09   \n",
       "4                6.000000e+05           32.0         -2.711820e+08   \n",
       "\n",
       "   Capital Surplus  Cash Ratio  Cash and Cash Equivalents  ...     Last PE  \\\n",
       "0     4.695000e+09        53.0               1.330000e+09  ...  2011-12-26   \n",
       "1     1.059200e+10        75.0               2.175000e+09  ...  2012-12-25   \n",
       "2     1.513500e+10        60.0               1.768000e+09  ...  2013-12-25   \n",
       "3     1.159100e+10        51.0               1.085000e+09  ...  2014-12-25   \n",
       "4     5.202150e+08        23.0               5.981110e+08  ...  2011-12-23   \n",
       "\n",
       "     Last PE2     Next PE    Next PE2  half_year_return      beta  \\\n",
       "0  2011-12-19  2013-07-08  2013-07-15          0.217037  0.357608   \n",
       "1  2012-12-18  2014-07-08  2014-07-15          0.661386  1.124389   \n",
       "2  2013-12-18  2015-07-08  2015-07-15         -0.272236  1.661482   \n",
       "3  2014-12-18  2016-07-07  2016-07-14         -0.307438  1.033788   \n",
       "4  2011-12-16  2013-07-05  2013-07-12          0.145154  0.601798   \n",
       "\n",
       "   exp_weighted_alpha   std_res  three_m_rtn       VaR  \n",
       "0           -0.099730  0.028314     0.150370 -0.046172  \n",
       "1            0.093856  0.022369     0.493465 -0.024731  \n",
       "2           -0.055035  0.023906    -0.082976 -0.037124  \n",
       "3            0.097942  0.018811    -0.070366 -0.035080  \n",
       "4            0.042358  0.018394     0.158300 -0.019798  \n",
       "\n",
       "[5 rows x 95 columns]"
      ]
     },
     "execution_count": 120,
     "metadata": {},
     "output_type": "execute_result"
    }
   ],
   "source": [
    "df_merged.head()"
   ]
  },
  {
   "cell_type": "code",
   "execution_count": 118,
   "metadata": {},
   "outputs": [],
   "source": [
    "df_merged.to_csv('viable_final2_MK4.csv', index=False)"
   ]
  },
  {
   "cell_type": "code",
   "execution_count": null,
   "metadata": {},
   "outputs": [],
   "source": []
  },
  {
   "cell_type": "code",
   "execution_count": null,
   "metadata": {},
   "outputs": [],
   "source": []
  },
  {
   "cell_type": "code",
   "execution_count": null,
   "metadata": {},
   "outputs": [],
   "source": []
  },
  {
   "cell_type": "code",
   "execution_count": 48,
   "metadata": {},
   "outputs": [],
   "source": [
    "df = pd.read_csv('price_adj_truncted.csv')\n",
    "df['year'] = df['date'].apply(lambda x: datetime.strptime(x, '%m/%d/%Y').year)\n",
    "df['date'] = df['date'].apply(lambda x: datetime.strptime(x, '%m/%d/%Y'))"
   ]
  },
  {
   "cell_type": "code",
   "execution_count": 49,
   "metadata": {},
   "outputs": [
    {
     "data": {
      "text/plain": [
       "(Timestamp('2010-01-04 00:00:00'), Timestamp('2016-12-30 00:00:00'))"
      ]
     },
     "execution_count": 49,
     "metadata": {},
     "output_type": "execute_result"
    }
   ],
   "source": [
    "min(df['date']), max(df['date'])"
   ]
  },
  {
   "cell_type": "code",
   "execution_count": 60,
   "metadata": {},
   "outputs": [
    {
     "data": {
      "text/plain": [
       "424"
      ]
     },
     "execution_count": 60,
     "metadata": {},
     "output_type": "execute_result"
    }
   ],
   "source": [
    "len(df[df['date'] == max(df['date'])]['symbol'].unique())"
   ]
  },
  {
   "cell_type": "code",
   "execution_count": 63,
   "metadata": {},
   "outputs": [
    {
     "data": {
      "text/plain": [
       "424"
      ]
     },
     "execution_count": 63,
     "metadata": {},
     "output_type": "execute_result"
    }
   ],
   "source": [
    "len(df[df['year'] == 2016]['symbol'].unique())"
   ]
  },
  {
   "cell_type": "code",
   "execution_count": 67,
   "metadata": {},
   "outputs": [
    {
     "data": {
      "text/plain": [
       "{2010: 407, 2011: 407, 2012: 407, 2013: 423, 2014: 423, 2015: 424, 2016: 424}"
      ]
     },
     "execution_count": 67,
     "metadata": {},
     "output_type": "execute_result"
    }
   ],
   "source": [
    "year_dic = {year: 0 for year in range(2010, 2017)}\n",
    "for year in range(2010, 2017):\n",
    "    year_dic[year] = len(df[df['year'] == year]['symbol'].unique())\n",
    "year_dic"
   ]
  },
  {
   "cell_type": "code",
   "execution_count": 68,
   "metadata": {},
   "outputs": [],
   "source": [
    "price_train = df[df['year'] == 2015]\n",
    "price_train.to_csv('price_train.csv', index=False)"
   ]
  },
  {
   "cell_type": "code",
   "execution_count": 70,
   "metadata": {},
   "outputs": [],
   "source": [
    "price_test = df[df['year'] == 2016]\n",
    "price_test.to_csv('price_test.csv', index=False)"
   ]
  },
  {
   "cell_type": "code",
   "execution_count": 4,
   "metadata": {},
   "outputs": [
    {
     "data": {
      "text/plain": [
       "symbol\n",
       "AAL     True\n",
       "AAP     True\n",
       "AAPL    True\n",
       "ABBV    True\n",
       "ABC     True\n",
       "ABT     True\n",
       "ADBE    True\n",
       "ADI     True\n",
       "ADM     True\n",
       "ADS     True\n",
       "ADSK    True\n",
       "AEE     True\n",
       "AEP     True\n",
       "AFL     True\n",
       "AIG     True\n",
       "AIV     True\n",
       "AIZ     True\n",
       "AJG     True\n",
       "AKAM    True\n",
       "ALB     True\n",
       "ALK     True\n",
       "ALL     True\n",
       "ALLE    True\n",
       "ALXN    True\n",
       "AMAT    True\n",
       "AME     True\n",
       "AMG     True\n",
       "AMGN    True\n",
       "AMP     True\n",
       "AMT     True\n",
       "        ... \n",
       "VRSN    True\n",
       "VRTX    True\n",
       "VTR     True\n",
       "VZ      True\n",
       "WAT     True\n",
       "WDC     True\n",
       "WEC     True\n",
       "WFC     True\n",
       "WFM     True\n",
       "WHR     True\n",
       "WM      True\n",
       "WMB     True\n",
       "WMT     True\n",
       "WU      True\n",
       "WY      True\n",
       "WYN     True\n",
       "WYNN    True\n",
       "XEC     True\n",
       "XEL     True\n",
       "XL      True\n",
       "XLNX    True\n",
       "XOM     True\n",
       "XRAY    True\n",
       "XRX     True\n",
       "XYL     True\n",
       "YHOO    True\n",
       "YUM     True\n",
       "ZBH     True\n",
       "ZION    True\n",
       "ZTS     True\n",
       "Name: date, Length: 424, dtype: bool"
      ]
     },
     "execution_count": 4,
     "metadata": {},
     "output_type": "execute_result"
    }
   ],
   "source": [
    "price_train = pd.read_csv('price_train.csv')\n",
    "price_train.groupby('symbol')['date'].count() == 252"
   ]
  }
 ],
 "metadata": {
  "kernelspec": {
   "display_name": "Python 3",
   "language": "python",
   "name": "python3"
  },
  "language_info": {
   "codemirror_mode": {
    "name": "ipython",
    "version": 3
   },
   "file_extension": ".py",
   "mimetype": "text/x-python",
   "name": "python",
   "nbconvert_exporter": "python",
   "pygments_lexer": "ipython3",
   "version": "3.7.3"
  }
 },
 "nbformat": 4,
 "nbformat_minor": 2
}
